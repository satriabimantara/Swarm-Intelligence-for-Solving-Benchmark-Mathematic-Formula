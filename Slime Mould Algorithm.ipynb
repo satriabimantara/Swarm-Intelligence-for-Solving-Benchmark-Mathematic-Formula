{
 "cells": [
  {
   "cell_type": "code",
   "execution_count": 112,
   "id": "5dd6cca8",
   "metadata": {},
   "outputs": [],
   "source": [
    "import numpy as np\n",
    "import math\n",
    "import random as rd\n",
    "import matplotlib.pyplot as plt"
   ]
  },
  {
   "cell_type": "code",
   "execution_count": 2,
   "id": "81084bf3",
   "metadata": {},
   "outputs": [],
   "source": [
    "# define fitness function\n",
    "def sphere_function(chromosome):\n",
    "    # evaluate the fitness of a chromosome for the sphere function\n",
    "    fitness = sum([gene**2 for gene in chromosome])\n",
    "    return fitness\n",
    "\n",
    "def rastrigin_function(chromosome):\n",
    "    # evaluate the fitness of a chromosome for the Rastrigin function\n",
    "    A = 10\n",
    "    fitness = A * len(chromosome) + sum([gene**2 - A * math.cos(2 * math.pi * gene) for gene in chromosome])\n",
    "    return fitness\n",
    "\n",
    "def satria_function(chromosome):\n",
    "    A = 10\n",
    "    fitness = A - (A * sum([gene**2 for gene in chromosome]))\n",
    "    return fitness\n",
    "\n",
    "def function_f6(chromosome):\n",
    "    fitness = sum([math.pow(gene+0.5,2) for gene in chromosome])\n",
    "    return fitness\n",
    "\n",
    "def griewank(x):\n",
    "    d = len(x)\n",
    "    s = np.sum(x**2)\n",
    "    p = np.prod(np.cos(x / np.sqrt(np.arange(1, d+1))))\n",
    "    return 1 + s/4000 - p"
   ]
  },
  {
   "cell_type": "code",
   "execution_count": 103,
   "id": "b92525dd",
   "metadata": {},
   "outputs": [],
   "source": [
    "def slime_mould_algorithm(n_slimes, dim, n_iterations, xmin, xmax, z=0.5, fitness_function=sphere_function, obj='min'):\n",
    "    isDescendingOrder=True\n",
    "    if obj=='min':\n",
    "        isDescendingOrder = False\n",
    "    track_fitness = []\n",
    "    # Tahap 1: inisialisasi posisi dari slime moulds dalam rentang search space\n",
    "    slimeMoulds = np.zeros((n_slimes, dim))\n",
    "    for i in range(n_slimes):\n",
    "        slimeMoulds[i] = np.array([rd.uniform(xmin, xmax) for d in range(dim)])\n",
    "        \n",
    "    # Tahap 2: Optimasi SMA\n",
    "    for iteration in range(n_iterations):\n",
    "        # Check the slime moulds positions boundaries\n",
    "        for idx_slime in range(n_slimes):\n",
    "            slimeMoulds[idx_slime] = np.clip(slimeMoulds[idx_slime], xmin, xmax)\n",
    "            \n",
    "        # Tahap 3: Hitung nilai fitness dari semua slime moulds\n",
    "        fitness_scores = np.array([fitness_function(slime) for slime in slimeMoulds])\n",
    "        \n",
    "        # Tahap 4: Tentukan slime dengan fitness teroptimal\n",
    "        if obj == 'min':\n",
    "            slime_best_position = slimeMoulds[fitness_scores.argmin()][:]\n",
    "            slime_best_value = fitness_scores.min()\n",
    "            slime_worst_value = fitness_scores.max()\n",
    "        else:\n",
    "            slime_best_position = slimeMoulds[fitness_scores.argmax()][:]\n",
    "            slime_best_value = fitness_scores.max()\n",
    "            slime_worst_value = fitness_scores.min()\n",
    "        \n",
    "        print(f\"Best Fitness = [{slime_best_value}]\")\n",
    "        track_fitness.append(slime_best_value)\n",
    "\n",
    "        # Tahap 5: Hitung W\n",
    "        WeightVector = []\n",
    "        ## sort slime moulds base on their fitness values\n",
    "        ## if minimization then ascending order, else descending order\n",
    "        slimeMouldsWithFitness = list(zip(slimeMoulds, fitness_scores))\n",
    "        slimeMouldsWithFitness.sort(key=lambda x:x[1], reverse=isDescendingOrder)\n",
    "        slimeMoulds = [list(slime) for slime, _ in slimeMouldsWithFitness]\n",
    "        sorted_fitness_scores = [fitness for _, fitness in slimeMouldsWithFitness]\n",
    "        for idx_sorted_fitness_scores, fitness_score in enumerate(sorted_fitness_scores):\n",
    "            inside_log = (slime_best_value-fitness_score)/(slime_best_value-slime_worst_value)\n",
    "            w = rd.uniform(0,1) * math.log2(inside_log+1)\n",
    "            if idx_sorted_fitness_scores < math.ceil(n_slimes/2):\n",
    "                # if S(i) ranks the first half of the population\n",
    "                w = 1 + w\n",
    "            else:\n",
    "                w = 1 - w\n",
    "            WeightVector.append(w)\n",
    "        \n",
    "        # Tahap 6: Updating slime mould position\n",
    "        for idx_slime, slime_mould in enumerate(slimeMoulds):\n",
    "            # Tahap 7: update nilai p\n",
    "            p = math.tanh(abs(fitness_scores[idx_slime]-slime_best_value))\n",
    "            \n",
    "            # Tahap 8: update nilai vb dan vc\n",
    "            a = math.atanh(-(iteration/n_iterations)+np.finfo(float).eps)\n",
    "            vb = np.array([ rd.uniform(-a,a) for _ in range(dim)])\n",
    "            vc = np.array([ (1 - (iteration/n_iterations)) for _ in range(dim)])\n",
    "            \n",
    "            # Tahap 9: Update position\n",
    "            r = rd.uniform(0,1)\n",
    "            if r < p:\n",
    "                # pick 2 random slime mould from the population\n",
    "                slime_mould_random1 = np.array(slimeMoulds[np.random.randint(0, n_slimes)])\n",
    "                slime_mould_random2 = np.array(slimeMoulds[np.random.randint(0, n_slimes)])\n",
    "                slimeMoulds[idx_slime] = slime_mould + (vb * (WeightVector[idx_slime]*slime_mould_random1 - slime_mould_random2))\n",
    "            elif r>=p:\n",
    "                slimeMoulds[idx_slime] = vc * slime_mould\n",
    "            else:\n",
    "                rand = rd.random()\n",
    "                if  rand < z:\n",
    "                    slimeMoulds[idx_slime] = np.array([rand*(xmax-xmin)+xmin for _ in range(dim)])\n",
    "    # Tahap End: Return solution\n",
    "    return track_fitness"
   ]
  },
  {
   "cell_type": "code",
   "execution_count": 127,
   "id": "a1800c24",
   "metadata": {},
   "outputs": [],
   "source": [
    "n_slimes = 100\n",
    "dim = 4\n",
    "n_iterations = 250\n",
    "xmin = -100\n",
    "xmax = 100\n",
    "z = 0.67 # probability used to determine if the SMA will search for the another food source or search around the best current one\n",
    "fitness_function = sphere_function\n",
    "obj='min'"
   ]
  },
  {
   "cell_type": "code",
   "execution_count": 128,
   "id": "a0649fef",
   "metadata": {},
   "outputs": [
    {
     "name": "stdout",
     "output_type": "stream",
     "text": [
      "Best Fitness = [2009.161962137065]\n",
      "Best Fitness = [2009.1619621370648]\n",
      "Best Fitness = [1993.1208130313623]\n",
      "Best Fitness = [1961.3584397548943]\n",
      "Best Fitness = [1914.5682728161014]\n",
      "Best Fitness = [1853.792217563827]\n",
      "Best Fitness = [1780.3820457482996]\n",
      "Best Fitness = [1695.9492076107322]\n",
      "Best Fitness = [1602.305676163298]\n",
      "Best Fitness = [1501.398873901238]\n",
      "Best Fitness = [1395.2439679209247]\n",
      "Best Fitness = [1285.856840835924]\n",
      "Best Fitness = [1175.1908576862209]\n",
      "Best Fitness = [1065.0801750844528]\n",
      "Best Fitness = [957.1918136690979]\n",
      "Best Fitness = [852.9880840658251]\n",
      "Best Fitness = [753.700271080563]\n",
      "Best Fitness = [660.3137926925968]\n",
      "Best Fitness = [573.564407863814]\n",
      "Best Fitness = [493.9444910217909]\n",
      "Best Fitness = [421.7179517666206]\n",
      "Best Fitness = [356.9420743752677]\n",
      "Best Fitness = [299.49438915701467]\n",
      "Best Fitness = [249.102661215012]\n",
      "Best Fitness = [205.3761764759737]\n",
      "Best Fitness = [167.83669743498933]\n",
      "Best Fitness = [135.94772492234137]\n",
      "Best Fitness = [109.1410087312544]\n",
      "Best Fitness = [86.83957157114482]\n",
      "Best Fitness = [68.47682312499683]\n",
      "Best Fitness = [53.51162429196751]\n",
      "Best Fitness = [41.43940185169964]\n",
      "Best Fitness = [31.799602435349858]\n",
      "Best Fitness = [24.17990889820107]\n",
      "Best Fitness = [18.21772368171824]\n",
      "Best Fitness = [13.59945785750794]\n",
      "Best Fitness = [10.05815903141287]\n",
      "Best Fitness = [7.369975216041341]\n",
      "Best Fitness = [5.349894489225274]\n",
      "Best Fitness = [3.8471305267798517]\n",
      "Best Fitness = [2.740449570924252]\n",
      "Best Fitness = [1.9336612172441519]\n",
      "Best Fitness = [1.3514280900870688]\n",
      "Best Fitness = [0.9354909582324309]\n",
      "Best Fitness = [0.6413576331088231]\n",
      "Best Fitness = [0.43546644029769627]\n",
      "Best Fitness = [0.2928076344561711]\n",
      "Best Fitness = [0.19496772024844827]\n",
      "Best Fitness = [0.12855079653949292]\n",
      "Best Fitness = [0.0839261872319595]\n",
      "Best Fitness = [0.05425123024573434]\n",
      "Best Fitness = [0.03472078735726998]\n",
      "Best Fitness = [0.021999646402163973]\n",
      "Best Fitness = [0.013799586200806985]\n",
      "Best Fitness = [0.008568770253873892]\n",
      "Best Fitness = [0.005266846049165112]\n",
      "Best Fitness = [0.003204349136312054]\n",
      "Best Fitness = [0.0019295821455078473]\n",
      "Best Fitness = [0.001150000085408349]\n",
      "Best Fitness = [0.000678297650375894]\n",
      "Best Fitness = [0.00039591962533380785]\n",
      "Best Fitness = [0.00022868317559280742]\n",
      "Best Fitness = [0.0001307006674456108]\n",
      "Best Fitness = [7.391175024316267e-05]\n",
      "Best Fitness = [4.1353919908050486e-05]\n",
      "Best Fitness = [2.2890883410222635e-05]\n",
      "Best Fitness = [1.2535047755437914e-05]\n",
      "Best Fitness = [6.790185228929696e-06]\n",
      "Best Fitness = [3.6383442101060253e-06]\n",
      "Best Fitness = [1.928264217848832e-06]\n",
      "Best Fitness = [1.0107498246551292e-06]\n",
      "Best Fitness = [5.239727091012189e-07]\n",
      "Best Fitness = [2.6861775315699447e-07]\n",
      "Best Fitness = [1.361741582564194e-07]\n",
      "Best Fitness = [6.82592032642458e-08]\n",
      "Best Fitness = [3.383035328501244e-08]\n",
      "Best Fitness = [1.6576873109656097e-08]\n",
      "Best Fitness = [8.030102564287166e-09]\n",
      "Best Fitness = [3.845327034344809e-09]\n",
      "Best Fitness = [1.820162479744909e-09]\n",
      "Best Fitness = [8.51573937123534e-10]\n",
      "Best Fitness = [3.93767788525922e-10]\n",
      "Best Fitness = [1.799424289294217e-10]\n",
      "Best Fitness = [8.125912182566394e-11]\n",
      "Best Fitness = [3.625977037753506e-11]\n",
      "Best Fitness = [1.5986787720373696e-11]\n",
      "Best Fitness = [6.9638447309947805e-12]\n",
      "Best Fitness = [2.9967930861573703e-12]\n",
      "Best Fitness = [1.2739487280978428e-12]\n",
      "Best Fitness = [5.349361667231966e-13]\n",
      "Best Fitness = [2.2185728604211171e-13]\n",
      "Best Fitness = [9.087274436284897e-14]\n",
      "Best Fitness = [3.6757661603794955e-14]\n",
      "Best Fitness = [1.4681892228434195e-14]\n",
      "Best Fitness = [5.790303384618792e-15]\n",
      "Best Fitness = [2.254605170689327e-15]\n",
      "Best Fitness = [8.666702276129771e-16]\n",
      "Best Fitness = [3.288632178891098e-16]\n",
      "Best Fitness = [1.2317374508105874e-16]\n",
      "Best Fitness = [4.5532899301644495e-17]\n",
      "Best Fitness = [1.661113019162874e-17]\n",
      "Best Fitness = [5.980006868986345e-18]\n",
      "Best Fitness = [2.1241941199738534e-18]\n",
      "Best Fitness = [7.444535680625167e-19]\n",
      "Best Fitness = [2.5739035443620687e-19]\n",
      "Best Fitness = [8.7784524722595e-20]\n",
      "Best Fitness = [2.953071411668097e-20]\n",
      "Best Fitness = [9.797582206775946e-21]\n",
      "Best Fitness = [3.2056121367417823e-21]\n",
      "Best Fitness = [1.034207410004181e-21]\n",
      "Best Fitness = [3.2897724029269005e-22]\n",
      "Best Fitness = [1.0316726255578761e-22]\n",
      "Best Fitness = [3.189271487744597e-23]\n",
      "Best Fitness = [9.717837794017297e-24]\n",
      "Best Fitness = [2.918305560894571e-24]\n",
      "Best Fitness = [8.636316744688957e-25]\n",
      "Best Fitness = [2.5183499627513003e-25]\n",
      "Best Fitness = [7.235118708985977e-26]\n",
      "Best Fitness = [2.0477122374920474e-26]\n",
      "Best Fitness = [5.7086940841698294e-27]\n",
      "Best Fitness = [1.5674703868550153e-27]\n",
      "Best Fitness = [4.238439926055962e-28]\n",
      "Best Fitness = [1.1285100609519563e-28]\n",
      "Best Fitness = [2.9583214141818964e-29]\n",
      "Best Fitness = [7.63436257429437e-30]\n",
      "Best Fitness = [1.9392502436719583e-30]\n",
      "Best Fitness = [4.848125609179896e-31]\n",
      "Best Fitness = [1.1927164698680014e-31]\n",
      "Best Fitness = [2.8871371956212783e-32]\n",
      "Best Fitness = [6.875544003140338e-33]\n",
      "Best Fitness = [1.610637435999643e-33]\n",
      "Best Fitness = [3.7109086525431767e-34]\n",
      "Best Fitness = [8.408028388586225e-35]\n",
      "Best Fitness = [1.8731741965227936e-35]\n",
      "Best Fitness = [4.102701052192083e-36]\n",
      "Best Fitness = [8.832951257327465e-37]\n",
      "Best Fitness = [1.8690524860504913e-37]\n",
      "Best Fitness = [3.886432977393949e-38]\n",
      "Best Fitness = [7.940138030134933e-39]\n",
      "Best Fitness = [1.593617463200201e-39]\n",
      "Best Fitness = [3.1415937222543476e-40]\n",
      "Best Fitness = [6.082125446284416e-41]\n",
      "Best Fitness = [1.1561877188368826e-41]\n",
      "Best Fitness = [2.1577237684021445e-42]\n",
      "Best Fitness = [3.952604707909786e-43]\n",
      "Best Fitness = [7.105834639691898e-44]\n",
      "Best Fitness = [1.2534692304416508e-44]\n",
      "Best Fitness = [2.169203711433104e-45]\n",
      "Best Fitness = [3.682093147935008e-46]\n",
      "Best Fitness = [6.129359537778533e-47]\n",
      "Best Fitness = [1.0004095463180613e-47]\n",
      "Best Fitness = [1.600655274108898e-48]\n",
      "Best Fitness = [2.5100835746466097e-49]\n",
      "Best Fitness = [3.857094824144967e-50]\n",
      "Best Fitness = [5.806624832060799e-51]\n",
      "Best Fitness = [8.562216712363572e-52]\n",
      "Best Fitness = [1.2363840932653e-52]\n",
      "Best Fitness = [1.7479503756947501e-53]\n",
      "Best Fitness = [2.4188836479014232e-54]\n",
      "Best Fitness = [3.2757489913340234e-55]\n",
      "Best Fitness = [4.340236383557927e-56]\n",
      "Best Fitness = [5.624946353091073e-57]\n",
      "Best Fitness = [7.128832010053502e-58]\n",
      "Best Fitness = [8.832908013736689e-59]\n",
      "Best Fitness = [1.069700492095568e-59]\n",
      "Best Fitness = [1.265840774326211e-60]\n",
      "Best Fitness = [1.4633119351210995e-61]\n",
      "Best Fitness = [1.652020642274316e-62]\n",
      "Best Fitness = [1.820923232740442e-63]\n",
      "Best Fitness = [1.959022050711477e-64]\n",
      "Best Fitness = [2.0565029879548796e-65]\n",
      "Best Fitness = [2.1058590596657958e-66]\n",
      "Best Fitness = [2.1028266226198762e-67]\n",
      "Best Fitness = [2.046975547523093e-68]\n",
      "Best Fitness = [1.9418428834023079e-69]\n",
      "Best Fitness = [1.7945735191250775e-70]\n",
      "Best Fitness = [1.6151161672125701e-71]\n",
      "Best Fitness = [1.4151001810649656e-72]\n",
      "Best Fitness = [1.2065710183832327e-73]\n",
      "Best Fitness = [1.0007782654877887e-74]\n",
      "Best Fitness = [8.071877178118311e-76]\n",
      "Best Fitness = [6.328351707644758e-77]\n",
      "Best Fitness = [4.820685196815471e-78]\n",
      "Best Fitness = [3.566535736011959e-79]\n",
      "Best Fitness = [2.56162862703323e-80]\n",
      "Best Fitness = [1.7853526878970802e-81]\n",
      "Best Fitness = [1.2068984170184263e-82]\n",
      "Best Fitness = [7.90952946577196e-84]\n",
      "Best Fitness = [5.022867591943825e-85]\n",
      "Best Fitness = [3.0892644837491306e-86]\n",
      "Best Fitness = [1.8392245030448823e-87]\n",
      "Best Fitness = [1.0593933137538523e-88]\n",
      "Best Fitness = [5.900397000283454e-90]\n",
      "Best Fitness = [3.175829681432566e-91]\n",
      "Best Fitness = [1.650923301595905e-92]\n",
      "Best Fitness = [8.283672758087613e-94]\n",
      "Best Fitness = [4.0092976149144027e-95]\n",
      "Best Fitness = [1.8705778952144632e-96]\n",
      "Best Fitness = [8.407125292251881e-98]\n",
      "Best Fitness = [3.637258686439852e-99]\n",
      "Best Fitness = [1.5136815749488083e-100]\n",
      "Best Fitness = [6.054726299795231e-102]\n",
      "Best Fitness = [2.325983655329335e-103]\n",
      "Best Fitness = [8.574506147006054e-105]\n",
      "Best Fitness = [3.030573452597818e-106]\n",
      "Best Fitness = [1.0260309481115178e-107]\n",
      "Best Fitness = [3.32434027188132e-109]\n",
      "Best Fitness = [1.0297476426179582e-110]\n",
      "Best Fitness = [3.046405425920969e-112]\n",
      "Best Fitness = [8.598174674119346e-114]\n",
      "Best Fitness = [2.3125650603511403e-115]\n",
      "Best Fitness = [5.920166554498921e-117]\n",
      "Best Fitness = [1.440731732702858e-118]\n",
      "Best Fitness = [3.328666595236684e-120]\n",
      "Best Fitness = [7.291111310206435e-122]\n",
      "Best Fitness = [1.5118848412844069e-123]\n",
      "Best Fitness = [2.9632942889174385e-125]\n",
      "Best Fitness = [5.480909116781695e-127]\n",
      "Best Fitness = [9.549936045080425e-129]\n",
      "Best Fitness = [1.564661521625977e-130]\n",
      "Best Fitness = [2.405823555652102e-132]\n",
      "Best Fitness = [3.4643859201390266e-134]\n",
      "Best Fitness = [4.6616776941390745e-136]\n",
      "Best Fitness = [5.847608499528054e-138]\n",
      "Best Fitness = [6.820650553849519e-140]\n",
      "Best Fitness = [7.377215639043637e-142]\n",
      "Best Fitness = [7.377215639043635e-144]\n",
      "Best Fitness = [6.798841932942611e-146]\n",
      "Best Fitness = [5.7545398120426215e-148]\n",
      "Best Fitness = [4.456315630445803e-150]\n",
      "Best Fitness = [3.1443763088425557e-152]\n",
      "Best Fitness = [2.0124008376592337e-154]\n",
      "Best Fitness = [1.1623627238319721e-156]\n",
      "Best Fitness = [6.025688360344936e-159]\n",
      "Best Fitness = [2.7862782978234944e-161]\n",
      "Best Fitness = [1.1412595907885013e-163]\n",
      "Best Fitness = [4.108534526838612e-166]\n",
      "Best Fitness = [1.288436427616591e-168]\n",
      "Best Fitness = [3.4839321002752685e-171]\n",
      "Best Fitness = [8.0269795590342335e-174]\n",
      "Best Fitness = [1.5540232426290304e-176]\n",
      "Best Fitness = [2.486437188206453e-179]\n",
      "Best Fitness = [3.222422595915568e-182]\n",
      "Best Fitness = [3.2997607382175486e-185]\n",
      "Best Fitness = [2.5870124187625625e-188]\n",
      "Best Fitness = [1.4901191532072387e-191]\n",
      "Best Fitness = [5.960476612828964e-195]\n",
      "Best Fitness = [1.5258820128842174e-198]\n"
     ]
    },
    {
     "name": "stdout",
     "output_type": "stream",
     "text": [
      "Best Fitness = [2.197270098553277e-202]\n",
      "Best Fitness = [1.4062528630741e-206]\n"
     ]
    }
   ],
   "source": [
    "track_fitness = slime_mould_algorithm(n_slimes, dim, n_iterations, xmin, xmax, z, fitness_function, obj)"
   ]
  },
  {
   "cell_type": "code",
   "execution_count": null,
   "id": "1ea45b47",
   "metadata": {},
   "outputs": [],
   "source": []
  },
  {
   "cell_type": "code",
   "execution_count": 129,
   "id": "db457b5a",
   "metadata": {},
   "outputs": [
    {
     "data": {
      "text/plain": [
       "[<matplotlib.lines.Line2D at 0x1bb3c169cf0>]"
      ]
     },
     "execution_count": 129,
     "metadata": {},
     "output_type": "execute_result"
    },
    {
     "data": {
      "image/png": "[encoded data removed]",
      "text/plain": [
       "<Figure size 640x480 with 1 Axes>"
      ]
     },
     "metadata": {},
     "output_type": "display_data"
    }
   ],
   "source": [
    "plt.plot(track_fitness)"
   ]
  },
  {
   "cell_type": "code",
   "execution_count": 6,
   "id": "ad13036d",
   "metadata": {},
   "outputs": [
    {
     "data": {
      "text/plain": [
       "[1, 2, 3, 4]"
      ]
     },
     "execution_count": 6,
     "metadata": {},
     "output_type": "execute_result"
    }
   ],
   "source": [
    "sorted([1,2,3,4], reverse=False)"
   ]
  },
  {
   "cell_type": "code",
   "execution_count": 56,
   "id": "2efb7db1",
   "metadata": {},
   "outputs": [],
   "source": [
    "x = [\n",
    "    [1,2,3],\n",
    "    [2,3,4],\n",
    "    [3,4,5],\n",
    "    [5,6,7]\n",
    "]\n",
    "y = [10,9,12,90]\n",
    "n = 4 # jumlah slime aka panjang dimensi vektor fitness score\n",
    "zipped = list(zip(x,y))"
   ]
  },
  {
   "cell_type": "code",
   "execution_count": 49,
   "id": "4d270ee2",
   "metadata": {},
   "outputs": [
    {
     "data": {
      "text/plain": [
       "[3, 4, 5]"
      ]
     },
     "execution_count": 49,
     "metadata": {},
     "output_type": "execute_result"
    }
   ],
   "source": [
    "x[2]"
   ]
  },
  {
   "cell_type": "code",
   "execution_count": 12,
   "id": "742204d2",
   "metadata": {},
   "outputs": [],
   "source": [
    "zipped.sort(key=lambda x:x[1], reverse=True)"
   ]
  },
  {
   "cell_type": "code",
   "execution_count": 13,
   "id": "9b8e0f5b",
   "metadata": {},
   "outputs": [
    {
     "data": {
      "text/plain": [
       "[([5, 6, 7], 90), ([3, 4, 5], 12), ([1, 2, 3], 10), ([2, 3, 4], 9)]"
      ]
     },
     "execution_count": 13,
     "metadata": {},
     "output_type": "execute_result"
    }
   ],
   "source": [
    "list(zipped)"
   ]
  },
  {
   "cell_type": "code",
   "execution_count": 31,
   "id": "2c2f9d9e",
   "metadata": {},
   "outputs": [
    {
     "name": "stdout",
     "output_type": "stream",
     "text": [
      "[1, 2, 3] 10\n",
      "[2, 3, 4] 9\n",
      "[3, 4, 5] 12\n",
      "[5, 6, 7] 90\n"
     ]
    }
   ],
   "source": [
    "for x, y in zipped:\n",
    "    print(x, y)"
   ]
  },
  {
   "cell_type": "code",
   "execution_count": 23,
   "id": "68381a21",
   "metadata": {},
   "outputs": [
    {
     "data": {
      "text/plain": [
       "3"
      ]
     },
     "execution_count": 23,
     "metadata": {},
     "output_type": "execute_result"
    }
   ],
   "source": [
    "math.ceil(5/2)"
   ]
  },
  {
   "cell_type": "code",
   "execution_count": 54,
   "id": "dd13426e",
   "metadata": {},
   "outputs": [
    {
     "data": {
      "text/plain": [
       "array([ 2,  6, 12])"
      ]
     },
     "execution_count": 54,
     "metadata": {},
     "output_type": "execute_result"
    }
   ],
   "source": [
    "x = np.array([1,2,3])\n",
    "y = np.array([2,3,4])\n",
    "x*y"
   ]
  },
  {
   "cell_type": "code",
   "execution_count": 59,
   "id": "5257cb32",
   "metadata": {},
   "outputs": [],
   "source": [
    "for idx_x, val_x in enumerate(x):\n",
    "    val_x[:] = [1,1,1]"
   ]
  },
  {
   "cell_type": "code",
   "execution_count": 97,
   "id": "f01528b6",
   "metadata": {},
   "outputs": [],
   "source": [
    "x = np.array([ 0,0,10,10])"
   ]
  },
  {
   "cell_type": "code",
   "execution_count": 98,
   "id": "2a6e0156",
   "metadata": {},
   "outputs": [
    {
     "data": {
      "text/plain": [
       "0"
      ]
     },
     "execution_count": 98,
     "metadata": {},
     "output_type": "execute_result"
    }
   ],
   "source": [
    "x.min()"
   ]
  },
  {
   "cell_type": "code",
   "execution_count": null,
   "id": "b5abdfbe",
   "metadata": {},
   "outputs": [],
   "source": []
  }
 ],
 "metadata": {
  "kernelspec": {
   "display_name": "ChatGPT",
   "language": "python",
   "name": "chatgpt"
  },
  "language_info": {
   "codemirror_mode": {
    "name": "ipython",
    "version": 3
   },
   "file_extension": ".py",
   "mimetype": "text/x-python",
   "name": "python",
   "nbconvert_exporter": "python",
   "pygments_lexer": "ipython3",
   "version": "3.10.8"
  },
  "toc": {
   "base_numbering": 1,
   "nav_menu": {},
   "number_sections": true,
   "sideBar": true,
   "skip_h1_title": false,
   "title_cell": "Table of Contents",
   "title_sidebar": "Contents",
   "toc_cell": false,
   "toc_position": {},
   "toc_section_display": true,
   "toc_window_display": false
  }
 },
 "nbformat": 4,
 "nbformat_minor": 5
}
