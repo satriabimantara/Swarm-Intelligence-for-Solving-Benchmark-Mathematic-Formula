{
 "cells": [
  {
   "cell_type": "code",
   "execution_count": 10,
   "id": "cfe47963",
   "metadata": {},
   "outputs": [],
   "source": [
    "import random\n",
    "import math\n",
    "import numpy as np"
   ]
  },
  {
   "cell_type": "code",
   "execution_count": 2,
   "id": "76b6ee84",
   "metadata": {},
   "outputs": [],
   "source": [
    "# define problem-specific parameters\n",
    "NUM_GENES = 10 # number of genes in a chromosome\n",
    "POP_SIZE = 100 # size of the population\n",
    "MAX_GEN = 50 # maximum number of generations\n",
    "MUT_RATE = 0.1 # mutation rate\n",
    "MIN_VAL = -5.12 # minimum value of gene\n",
    "MAX_VAL = 5.12 # maximum value of gene"
   ]
  },
  {
   "cell_type": "code",
   "execution_count": 7,
   "id": "44934314",
   "metadata": {},
   "outputs": [
    {
     "name": "stdout",
     "output_type": "stream",
     "text": [
      "Solution found for Rastrigin Function:  5\n"
     ]
    }
   ],
   "source": [
    "# define fitness function\n",
    "def sphere_function(chromosome):\n",
    "    # evaluate the fitness of a chromosome for the sphere function\n",
    "    fitness = sum([gene**2 for gene in chromosome])\n",
    "    return fitness\n",
    "\n",
    "def rastrigin_function(chromosome):\n",
    "    # evaluate the fitness of a chromosome for the Rastrigin function\n",
    "    A = 10\n",
    "    fitness = A * NUM_GENES + sum([gene**2 - A * math.cos(2 * math.pi * gene) for gene in chromosome])\n",
    "    return fitness\n",
    "\n",
    "# define genetic operators\n",
    "def mutation(chromosome):\n",
    "    # apply mutation to a chromosome\n",
    "    for i in range(len(chromosome)):\n",
    "        if random.random() < MUT_RATE:\n",
    "            chromosome[i] = random.uniform(MIN_VAL, MAX_VAL)\n",
    "    return chromosome\n",
    "\n",
    "def crossover(parent1, parent2):\n",
    "    # apply crossover to two parent chromosomes to create two offspring chromosomes\n",
    "    crossover_point = random.randint(0, NUM_GENES-1)\n",
    "    child1 = parent1[:crossover_point] + parent2[crossover_point:]\n",
    "    child2 = parent2[:crossover_point] + parent1[crossover_point:]\n",
    "    return child1, child2\n",
    "\n",
    "# define main function\n",
    "def genetic_algorithm():\n",
    "    # initialize population\n",
    "    population = [[random.uniform(MIN_VAL, MAX_VAL) for _ in range(NUM_GENES)] for _ in range(POP_SIZE)]\n",
    "\n",
    "    # iterate through generations\n",
    "    for generation in range(MAX_GEN):\n",
    "        # evaluate fitness\n",
    "        fitness_scores = [rastrigin_function(chromosome) for chromosome in population]\n",
    "\n",
    "        # select parents\n",
    "        total_fitness = sum(fitness_scores)\n",
    "        parent1 = None\n",
    "        parent2 = None\n",
    "        while parent1 == parent2:\n",
    "            parent1 = random.choices(population, weights=[fitness/total_fitness for fitness in fitness_scores])[0]\n",
    "            parent2 = random.choices(population, weights=[fitness/total_fitness for fitness in fitness_scores])[0]\n",
    "\n",
    "        # create offspring\n",
    "        child1, child2 = crossover(parent1, parent2)\n",
    "        child1 = mutation(child1)\n",
    "        child2 = mutation(child2)\n",
    "\n",
    "        # replace least fit individuals\n",
    "        worst_index = fitness_scores.index(max(fitness_scores))\n",
    "        population[worst_index] = child1 if sphere_function(child1) < sphere_function(child2) else child2\n",
    "\n",
    "    # return best solution\n",
    "    best_index = fitness_scores.index(min(fitness_scores))\n",
    "    return population, best_index\n",
    "\n",
    "# run genetic algorithm\n",
    "population, best_index = genetic_algorithm()\n",
    "print(\"Solution found for Rastrigin Function: \", best_index)"
   ]
  },
  {
   "cell_type": "code",
   "execution_count": 12,
   "id": "621bc753",
   "metadata": {},
   "outputs": [
    {
     "data": {
      "text/plain": [
       "[1.5666813747985024,\n",
       " -0.9445045268392915,\n",
       " 1.971385684581076,\n",
       " 1.9152913115038324,\n",
       " 1.2268137583844672,\n",
       " 3.886601600023851,\n",
       " 1.7667646649609354,\n",
       " -3.0698647853999343,\n",
       " 0.439716206790707,\n",
       " -1.943082052915087]"
      ]
     },
     "execution_count": 12,
     "metadata": {},
     "output_type": "execute_result"
    }
   ],
   "source": [
    "# best population\n",
    "population[best_index]"
   ]
  },
  {
   "cell_type": "code",
   "execution_count": null,
   "id": "d37c2ba5",
   "metadata": {},
   "outputs": [],
   "source": []
  }
 ],
 "metadata": {
  "kernelspec": {
   "display_name": "ChatGPT",
   "language": "python",
   "name": "chatgpt"
  },
  "language_info": {
   "codemirror_mode": {
    "name": "ipython",
    "version": 3
   },
   "file_extension": ".py",
   "mimetype": "text/x-python",
   "name": "python",
   "nbconvert_exporter": "python",
   "pygments_lexer": "ipython3",
   "version": "3.10.8"
  },
  "toc": {
   "base_numbering": 1,
   "nav_menu": {},
   "number_sections": true,
   "sideBar": true,
   "skip_h1_title": false,
   "title_cell": "Table of Contents",
   "title_sidebar": "Contents",
   "toc_cell": false,
   "toc_position": {},
   "toc_section_display": true,
   "toc_window_display": false
  }
 },
 "nbformat": 4,
 "nbformat_minor": 5
}
